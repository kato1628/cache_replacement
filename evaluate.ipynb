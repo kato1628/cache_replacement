{
 "cells": [
  {
   "cell_type": "code",
   "execution_count": 21,
   "metadata": {},
   "outputs": [],
   "source": [
    "import re\n",
    "import numpy as np\n",
    "import matplotlib.pyplot as plt\n",
    "from evaluator import cache_hit_rate_evaluator\n",
    "from utils import save_pickle"
   ]
  },
  {
   "cell_type": "code",
   "execution_count": 4,
   "metadata": {},
   "outputs": [
    {
     "name": "stdout",
     "output_type": "stream",
     "text": [
      "Checkpoint: ./result/checkpoints/model_30.ckpt\n",
      "Expects that all calls to loss are labeled with Belady's optimal policy.\n"
     ]
    },
    {
     "name": "stderr",
     "output_type": "stream",
     "text": [
      "Evaluating the model...: 5004it [02:24, 20.35it/s]"
     ]
    },
    {
     "name": "stdout",
     "output_type": "stream",
     "text": [
      "step 1: 0.11371902854355612\n"
     ]
    },
    {
     "name": "stderr",
     "output_type": "stream",
     "text": [
      "Evaluating the model...: 10002it [08:38, 10.20it/s]"
     ]
    },
    {
     "name": "stdout",
     "output_type": "stream",
     "text": [
      "step 2: 0.26640143850599163\n"
     ]
    },
    {
     "name": "stderr",
     "output_type": "stream",
     "text": [
      "Evaluating the model...: 15004it [17:53,  9.04it/s]"
     ]
    },
    {
     "name": "stdout",
     "output_type": "stream",
     "text": [
      "step 3: 0.2949959485040121\n"
     ]
    },
    {
     "name": "stderr",
     "output_type": "stream",
     "text": [
      "Evaluating the model...: 20006it [32:27,  9.75it/s] "
     ]
    },
    {
     "name": "stdout",
     "output_type": "stream",
     "text": [
      "step 4: 0.18937166071047523\n"
     ]
    },
    {
     "name": "stderr",
     "output_type": "stream",
     "text": [
      "Evaluating the model...: 25006it [41:31,  8.76it/s]"
     ]
    },
    {
     "name": "stdout",
     "output_type": "stream",
     "text": [
      "step 5: 0.10931414575085803\n"
     ]
    },
    {
     "name": "stderr",
     "output_type": "stream",
     "text": [
      "Evaluating the model...: 30007it [1:33:16,  9.39it/s] "
     ]
    },
    {
     "name": "stdout",
     "output_type": "stream",
     "text": [
      "step 6: 0.09961321457865781\n"
     ]
    },
    {
     "name": "stderr",
     "output_type": "stream",
     "text": [
      "Evaluating the model...: 35008it [2:41:44,  9.32it/s] "
     ]
    },
    {
     "name": "stdout",
     "output_type": "stream",
     "text": [
      "step 7: 0.20805203265797043\n"
     ]
    },
    {
     "name": "stderr",
     "output_type": "stream",
     "text": [
      "Evaluating the model...: 40009it [2:50:38,  9.26it/s]"
     ]
    },
    {
     "name": "stdout",
     "output_type": "stream",
     "text": [
      "step 8: 0.1979589118051014\n"
     ]
    },
    {
     "name": "stderr",
     "output_type": "stream",
     "text": [
      "Evaluating the model...: 45011it [3:02:02,  9.77it/s]"
     ]
    },
    {
     "name": "stdout",
     "output_type": "stream",
     "text": [
      "step 9: 0.23484099695519098\n"
     ]
    },
    {
     "name": "stderr",
     "output_type": "stream",
     "text": [
      "Evaluating the model...: 50000it [3:09:28,  4.40it/s]\n"
     ]
    },
    {
     "name": "stdout",
     "output_type": "stream",
     "text": [
      "step 10: 0.1758523159116042\n",
      "Checkpoint: ./result/checkpoints/model_60.ckpt\n",
      "Expects that all calls to loss are labeled with Belady's optimal policy.\n"
     ]
    },
    {
     "name": "stderr",
     "output_type": "stream",
     "text": [
      "Evaluating the model...: 5005it [04:36, 20.61it/s]"
     ]
    },
    {
     "name": "stdout",
     "output_type": "stream",
     "text": [
      "step 1: 0.11371902854355612\n"
     ]
    },
    {
     "name": "stderr",
     "output_type": "stream",
     "text": [
      "Evaluating the model...: 10004it [23:16, 10.81it/s]"
     ]
    },
    {
     "name": "stdout",
     "output_type": "stream",
     "text": [
      "step 2: 0.26640143850599163\n"
     ]
    },
    {
     "name": "stderr",
     "output_type": "stream",
     "text": [
      "Evaluating the model...: 15004it [32:17,  9.30it/s]"
     ]
    },
    {
     "name": "stdout",
     "output_type": "stream",
     "text": [
      "step 3: 0.2931946679431155\n"
     ]
    },
    {
     "name": "stderr",
     "output_type": "stream",
     "text": [
      "Evaluating the model...: 20005it [41:19,  9.20it/s]"
     ]
    },
    {
     "name": "stdout",
     "output_type": "stream",
     "text": [
      "step 4: 0.17801453410582663\n"
     ]
    },
    {
     "name": "stderr",
     "output_type": "stream",
     "text": [
      "Evaluating the model...: 25006it [51:02,  7.44it/s]"
     ]
    },
    {
     "name": "stdout",
     "output_type": "stream",
     "text": [
      "step 5: 0.11130051106620095\n"
     ]
    },
    {
     "name": "stderr",
     "output_type": "stream",
     "text": [
      "Evaluating the model...: 30007it [1:00:11,  8.82it/s]"
     ]
    },
    {
     "name": "stdout",
     "output_type": "stream",
     "text": [
      "step 6: 0.11425200470116767\n"
     ]
    },
    {
     "name": "stderr",
     "output_type": "stream",
     "text": [
      "Evaluating the model...: 35008it [1:10:01,  8.89it/s]"
     ]
    },
    {
     "name": "stdout",
     "output_type": "stream",
     "text": [
      "step 7: 0.20822040584962848\n"
     ]
    },
    {
     "name": "stderr",
     "output_type": "stream",
     "text": [
      "Evaluating the model...: 40009it [1:19:19,  9.16it/s]"
     ]
    },
    {
     "name": "stdout",
     "output_type": "stream",
     "text": [
      "step 8: 0.19290556606934206\n"
     ]
    },
    {
     "name": "stderr",
     "output_type": "stream",
     "text": [
      "Evaluating the model...: 45010it [1:45:18,  9.95it/s] "
     ]
    },
    {
     "name": "stdout",
     "output_type": "stream",
     "text": [
      "step 9: 0.21500295990921986\n"
     ]
    },
    {
     "name": "stderr",
     "output_type": "stream",
     "text": [
      "Evaluating the model...: 50000it [1:52:54,  7.38it/s]\n"
     ]
    },
    {
     "name": "stdout",
     "output_type": "stream",
     "text": [
      "step 10: 0.19520922654578454\n",
      "Checkpoint: ./result/checkpoints/model_90.ckpt\n",
      "Expects that all calls to loss are labeled with Belady's optimal policy.\n"
     ]
    },
    {
     "name": "stderr",
     "output_type": "stream",
     "text": [
      "Evaluating the model...: 5003it [02:10, 20.55it/s]"
     ]
    },
    {
     "name": "stdout",
     "output_type": "stream",
     "text": [
      "step 1: 0.11371902854355612\n"
     ]
    },
    {
     "name": "stderr",
     "output_type": "stream",
     "text": [
      "Evaluating the model...: 10003it [34:37, 10.09it/s]"
     ]
    },
    {
     "name": "stdout",
     "output_type": "stream",
     "text": [
      "step 2: 0.26640143850599163\n"
     ]
    },
    {
     "name": "stderr",
     "output_type": "stream",
     "text": [
      "Evaluating the model...: 15004it [43:52,  9.33it/s]"
     ]
    },
    {
     "name": "stdout",
     "output_type": "stream",
     "text": [
      "step 3: 0.29302832041924337\n"
     ]
    },
    {
     "name": "stderr",
     "output_type": "stream",
     "text": [
      "Evaluating the model...: 20005it [52:33,  9.21it/s]"
     ]
    },
    {
     "name": "stdout",
     "output_type": "stream",
     "text": [
      "step 4: 0.16084364081945507\n"
     ]
    },
    {
     "name": "stderr",
     "output_type": "stream",
     "text": [
      "Evaluating the model...: 25006it [1:02:02,  8.82it/s]"
     ]
    },
    {
     "name": "stdout",
     "output_type": "stream",
     "text": [
      "step 5: 0.13200762759166865\n"
     ]
    },
    {
     "name": "stderr",
     "output_type": "stream",
     "text": [
      "Evaluating the model...: 30007it [1:11:00,  9.27it/s]"
     ]
    },
    {
     "name": "stdout",
     "output_type": "stream",
     "text": [
      "step 6: 0.13391218101981428\n"
     ]
    },
    {
     "name": "stderr",
     "output_type": "stream",
     "text": [
      "Evaluating the model...: 35008it [1:20:12,  8.94it/s]"
     ]
    },
    {
     "name": "stdout",
     "output_type": "stream",
     "text": [
      "step 7: 0.2102450359714499\n"
     ]
    },
    {
     "name": "stderr",
     "output_type": "stream",
     "text": [
      "Evaluating the model...: 40009it [1:29:29,  8.99it/s]"
     ]
    },
    {
     "name": "stdout",
     "output_type": "stream",
     "text": [
      "step 8: 0.22246536715226004\n"
     ]
    },
    {
     "name": "stderr",
     "output_type": "stream",
     "text": [
      "Evaluating the model...: 45011it [1:38:16, 10.04it/s]"
     ]
    },
    {
     "name": "stdout",
     "output_type": "stream",
     "text": [
      "step 9: 0.2680209224686582\n"
     ]
    },
    {
     "name": "stderr",
     "output_type": "stream",
     "text": [
      "Evaluating the model...: 50000it [1:46:06,  7.85it/s]\n"
     ]
    },
    {
     "name": "stdout",
     "output_type": "stream",
     "text": [
      "step 10: 0.25822740679769796\n",
      "Checkpoint: ./result/checkpoints/model_120.ckpt\n",
      "Expects that all calls to loss are labeled with Belady's optimal policy.\n"
     ]
    },
    {
     "name": "stderr",
     "output_type": "stream",
     "text": [
      "Evaluating the model...: 5003it [02:18, 18.87it/s]"
     ]
    },
    {
     "name": "stdout",
     "output_type": "stream",
     "text": [
      "step 1: 0.11371902854355612\n"
     ]
    },
    {
     "name": "stderr",
     "output_type": "stream",
     "text": [
      "Evaluating the model...: 10002it [08:39, 10.37it/s]"
     ]
    },
    {
     "name": "stdout",
     "output_type": "stream",
     "text": [
      "step 2: 0.26640143850599163\n"
     ]
    },
    {
     "name": "stderr",
     "output_type": "stream",
     "text": [
      "Evaluating the model...: 15004it [17:55,  9.26it/s]"
     ]
    },
    {
     "name": "stdout",
     "output_type": "stream",
     "text": [
      "step 3: 0.29356104064987737\n"
     ]
    },
    {
     "name": "stderr",
     "output_type": "stream",
     "text": [
      "Evaluating the model...: 20005it [26:28,  9.34it/s]"
     ]
    },
    {
     "name": "stdout",
     "output_type": "stream",
     "text": [
      "step 4: 0.15995468867963936\n"
     ]
    },
    {
     "name": "stderr",
     "output_type": "stream",
     "text": [
      "Evaluating the model...: 25006it [35:56,  8.80it/s]"
     ]
    },
    {
     "name": "stdout",
     "output_type": "stream",
     "text": [
      "step 5: 0.13561690531712178\n"
     ]
    },
    {
     "name": "stderr",
     "output_type": "stream",
     "text": [
      "Evaluating the model...: 30007it [44:36,  9.27it/s]"
     ]
    },
    {
     "name": "stdout",
     "output_type": "stream",
     "text": [
      "step 6: 0.1328370592599616\n"
     ]
    },
    {
     "name": "stderr",
     "output_type": "stream",
     "text": [
      "Evaluating the model...: 35008it [53:51,  9.14it/s]"
     ]
    },
    {
     "name": "stdout",
     "output_type": "stream",
     "text": [
      "step 7: 0.23623351980617374\n"
     ]
    },
    {
     "name": "stderr",
     "output_type": "stream",
     "text": [
      "Evaluating the model...: 40009it [1:03:02,  9.14it/s]"
     ]
    },
    {
     "name": "stdout",
     "output_type": "stream",
     "text": [
      "step 8: 0.2376142070233149\n"
     ]
    },
    {
     "name": "stderr",
     "output_type": "stream",
     "text": [
      "Evaluating the model...: 45010it [1:12:11,  9.67it/s]"
     ]
    },
    {
     "name": "stdout",
     "output_type": "stream",
     "text": [
      "step 9: 0.2800209377252399\n"
     ]
    },
    {
     "name": "stderr",
     "output_type": "stream",
     "text": [
      "Evaluating the model...: 50000it [1:20:00, 10.42it/s]\n"
     ]
    },
    {
     "name": "stdout",
     "output_type": "stream",
     "text": [
      "step 10: 0.20600727788690068\n",
      "Checkpoint: ./result/checkpoints/model_150.ckpt\n",
      "Expects that all calls to loss are labeled with Belady's optimal policy.\n"
     ]
    },
    {
     "name": "stderr",
     "output_type": "stream",
     "text": [
      "Evaluating the model...: 5003it [02:15, 19.23it/s]"
     ]
    },
    {
     "name": "stdout",
     "output_type": "stream",
     "text": [
      "step 1: 0.11371902854355612\n"
     ]
    },
    {
     "name": "stderr",
     "output_type": "stream",
     "text": [
      "Evaluating the model...: 10002it [08:38, 10.01it/s]"
     ]
    },
    {
     "name": "stdout",
     "output_type": "stream",
     "text": [
      "step 2: 0.26640143850599163\n"
     ]
    },
    {
     "name": "stderr",
     "output_type": "stream",
     "text": [
      "Evaluating the model...: 15005it [17:50,  9.67it/s]"
     ]
    },
    {
     "name": "stdout",
     "output_type": "stream",
     "text": [
      "step 3: 0.2935184638954578\n"
     ]
    },
    {
     "name": "stderr",
     "output_type": "stream",
     "text": [
      "Evaluating the model...: 20005it [26:23,  8.50it/s]"
     ]
    },
    {
     "name": "stdout",
     "output_type": "stream",
     "text": [
      "step 4: 0.16958400578684665\n"
     ]
    },
    {
     "name": "stderr",
     "output_type": "stream",
     "text": [
      "Evaluating the model...: 25006it [42:34,  8.63it/s] "
     ]
    },
    {
     "name": "stdout",
     "output_type": "stream",
     "text": [
      "step 5: 0.14028127644134558\n"
     ]
    },
    {
     "name": "stderr",
     "output_type": "stream",
     "text": [
      "Evaluating the model...: 30007it [51:41,  8.59it/s]"
     ]
    },
    {
     "name": "stdout",
     "output_type": "stream",
     "text": [
      "step 6: 0.14706872340509883\n"
     ]
    },
    {
     "name": "stderr",
     "output_type": "stream",
     "text": [
      "Evaluating the model...: 35008it [1:01:25,  8.11it/s]"
     ]
    },
    {
     "name": "stdout",
     "output_type": "stream",
     "text": [
      "step 7: 0.23208170457167765\n"
     ]
    },
    {
     "name": "stderr",
     "output_type": "stream",
     "text": [
      "Evaluating the model...: 40009it [1:10:56,  8.33it/s]"
     ]
    },
    {
     "name": "stdout",
     "output_type": "stream",
     "text": [
      "step 8: 0.2382514232152474\n"
     ]
    },
    {
     "name": "stderr",
     "output_type": "stream",
     "text": [
      "Evaluating the model...: 45010it [1:20:19,  9.36it/s]"
     ]
    },
    {
     "name": "stdout",
     "output_type": "stream",
     "text": [
      "step 9: 0.2956687274576918\n"
     ]
    },
    {
     "name": "stderr",
     "output_type": "stream",
     "text": [
      "Evaluating the model...: 50000it [1:28:02,  9.47it/s]\n"
     ]
    },
    {
     "name": "stdout",
     "output_type": "stream",
     "text": [
      "step 10: 0.2244382699302212\n",
      "Checkpoint: ./result/checkpoints/model_180.ckpt\n",
      "Expects that all calls to loss are labeled with Belady's optimal policy.\n"
     ]
    },
    {
     "name": "stderr",
     "output_type": "stream",
     "text": [
      "Evaluating the model...: 5002it [02:14, 20.29it/s]"
     ]
    },
    {
     "name": "stdout",
     "output_type": "stream",
     "text": [
      "step 1: 0.11371902854355612\n"
     ]
    },
    {
     "name": "stderr",
     "output_type": "stream",
     "text": [
      "Evaluating the model...: 10003it [08:35,  9.55it/s]"
     ]
    },
    {
     "name": "stdout",
     "output_type": "stream",
     "text": [
      "step 2: 0.26640143850599163\n"
     ]
    },
    {
     "name": "stderr",
     "output_type": "stream",
     "text": [
      "Evaluating the model...: 15005it [17:47,  9.62it/s]"
     ]
    },
    {
     "name": "stdout",
     "output_type": "stream",
     "text": [
      "step 3: 0.29351577542130475\n"
     ]
    },
    {
     "name": "stderr",
     "output_type": "stream",
     "text": [
      "Evaluating the model...: 20005it [26:20,  9.42it/s]"
     ]
    },
    {
     "name": "stdout",
     "output_type": "stream",
     "text": [
      "step 4: 0.16653051968661656\n"
     ]
    },
    {
     "name": "stderr",
     "output_type": "stream",
     "text": [
      "Evaluating the model...: 25006it [35:49,  8.72it/s]"
     ]
    },
    {
     "name": "stdout",
     "output_type": "stream",
     "text": [
      "step 5: 0.13636284258191655\n"
     ]
    },
    {
     "name": "stderr",
     "output_type": "stream",
     "text": [
      "Evaluating the model...: 30007it [44:41,  9.14it/s]"
     ]
    },
    {
     "name": "stdout",
     "output_type": "stream",
     "text": [
      "step 6: 0.14405523751052432\n"
     ]
    },
    {
     "name": "stderr",
     "output_type": "stream",
     "text": [
      "Evaluating the model...: 35008it [53:58,  9.06it/s]"
     ]
    },
    {
     "name": "stdout",
     "output_type": "stream",
     "text": [
      "step 7: 0.24029465929926905\n"
     ]
    },
    {
     "name": "stderr",
     "output_type": "stream",
     "text": [
      "Evaluating the model...: 40009it [1:03:19,  8.88it/s]"
     ]
    },
    {
     "name": "stdout",
     "output_type": "stream",
     "text": [
      "step 8: 0.24548640546678568\n"
     ]
    },
    {
     "name": "stderr",
     "output_type": "stream",
     "text": [
      "Evaluating the model...: 45010it [1:12:20,  9.12it/s]"
     ]
    },
    {
     "name": "stdout",
     "output_type": "stream",
     "text": [
      "step 9: 0.28012094458418674\n"
     ]
    },
    {
     "name": "stderr",
     "output_type": "stream",
     "text": [
      "Evaluating the model...: 50000it [1:20:13, 10.39it/s]\n"
     ]
    },
    {
     "name": "stdout",
     "output_type": "stream",
     "text": [
      "step 10: 0.24471860550628696\n",
      "Checkpoint: ./result/checkpoints/model_210.ckpt\n",
      "Expects that all calls to loss are labeled with Belady's optimal policy.\n"
     ]
    },
    {
     "name": "stderr",
     "output_type": "stream",
     "text": [
      "Evaluating the model...: 5003it [02:11, 20.54it/s]"
     ]
    },
    {
     "name": "stdout",
     "output_type": "stream",
     "text": [
      "step 1: 0.11371902854355612\n"
     ]
    },
    {
     "name": "stderr",
     "output_type": "stream",
     "text": [
      "Evaluating the model...: 10003it [08:20, 10.21it/s]"
     ]
    },
    {
     "name": "stdout",
     "output_type": "stream",
     "text": [
      "step 2: 0.26640143850599163\n"
     ]
    },
    {
     "name": "stderr",
     "output_type": "stream",
     "text": [
      "Evaluating the model...: 15004it [17:24,  8.85it/s]"
     ]
    },
    {
     "name": "stdout",
     "output_type": "stream",
     "text": [
      "step 3: 0.2942723379872194\n"
     ]
    },
    {
     "name": "stderr",
     "output_type": "stream",
     "text": [
      "Evaluating the model...: 20006it [25:45,  9.67it/s]"
     ]
    },
    {
     "name": "stdout",
     "output_type": "stream",
     "text": [
      "step 4: 0.15961953843219842\n"
     ]
    },
    {
     "name": "stderr",
     "output_type": "stream",
     "text": [
      "Evaluating the model...: 25006it [51:22,  8.06it/s] "
     ]
    },
    {
     "name": "stdout",
     "output_type": "stream",
     "text": [
      "step 5: 0.13949758925397315\n"
     ]
    },
    {
     "name": "stderr",
     "output_type": "stream",
     "text": [
      "Evaluating the model...: 30007it [1:17:55,  8.81it/s] "
     ]
    },
    {
     "name": "stdout",
     "output_type": "stream",
     "text": [
      "step 6: 0.14802223555860278\n"
     ]
    },
    {
     "name": "stderr",
     "output_type": "stream",
     "text": [
      "Evaluating the model...: 35008it [1:27:20,  8.90it/s]"
     ]
    },
    {
     "name": "stdout",
     "output_type": "stream",
     "text": [
      "step 7: 0.23667878489660465\n"
     ]
    },
    {
     "name": "stderr",
     "output_type": "stream",
     "text": [
      "Evaluating the model...: 40009it [1:36:32,  9.11it/s]"
     ]
    },
    {
     "name": "stdout",
     "output_type": "stream",
     "text": [
      "step 8: 0.24964387104051275\n"
     ]
    },
    {
     "name": "stderr",
     "output_type": "stream",
     "text": [
      "Evaluating the model...: 45011it [1:45:31, 10.12it/s]"
     ]
    },
    {
     "name": "stdout",
     "output_type": "stream",
     "text": [
      "step 9: 0.3086860179961965\n"
     ]
    },
    {
     "name": "stderr",
     "output_type": "stream",
     "text": [
      "Evaluating the model...: 50000it [1:53:03,  7.37it/s]\n"
     ]
    },
    {
     "name": "stdout",
     "output_type": "stream",
     "text": [
      "step 10: 0.23197922796994372\n",
      "Checkpoint: ./result/checkpoints/model_240.ckpt\n",
      "Expects that all calls to loss are labeled with Belady's optimal policy.\n"
     ]
    },
    {
     "name": "stderr",
     "output_type": "stream",
     "text": [
      "Evaluating the model...: 5003it [02:10, 20.36it/s]"
     ]
    },
    {
     "name": "stdout",
     "output_type": "stream",
     "text": [
      "step 1: 0.11371902854355612\n"
     ]
    },
    {
     "name": "stderr",
     "output_type": "stream",
     "text": [
      "Evaluating the model...: 10003it [08:06, 10.31it/s]"
     ]
    },
    {
     "name": "stdout",
     "output_type": "stream",
     "text": [
      "step 2: 0.26640143850599163\n"
     ]
    },
    {
     "name": "stderr",
     "output_type": "stream",
     "text": [
      "Evaluating the model...: 15005it [17:09,  9.86it/s]"
     ]
    },
    {
     "name": "stdout",
     "output_type": "stream",
     "text": [
      "step 3: 0.2947206959117763\n"
     ]
    },
    {
     "name": "stderr",
     "output_type": "stream",
     "text": [
      "Evaluating the model...: 20005it [41:23,  9.71it/s] "
     ]
    },
    {
     "name": "stdout",
     "output_type": "stream",
     "text": [
      "step 4: 0.16140209358580002\n"
     ]
    },
    {
     "name": "stderr",
     "output_type": "stream",
     "text": [
      "Evaluating the model...: 25006it [50:28,  8.96it/s]"
     ]
    },
    {
     "name": "stdout",
     "output_type": "stream",
     "text": [
      "step 5: 0.14172841297197694\n"
     ]
    },
    {
     "name": "stderr",
     "output_type": "stream",
     "text": [
      "Evaluating the model...: 30007it [59:10,  8.21it/s]"
     ]
    },
    {
     "name": "stdout",
     "output_type": "stream",
     "text": [
      "step 6: 0.15627882074076668\n"
     ]
    },
    {
     "name": "stderr",
     "output_type": "stream",
     "text": [
      "Evaluating the model...: 35008it [1:08:48,  8.10it/s]"
     ]
    },
    {
     "name": "stdout",
     "output_type": "stream",
     "text": [
      "step 7: 0.23750444392160683\n"
     ]
    },
    {
     "name": "stderr",
     "output_type": "stream",
     "text": [
      "Evaluating the model...: 40009it [1:18:15,  8.90it/s]"
     ]
    },
    {
     "name": "stdout",
     "output_type": "stream",
     "text": [
      "step 8: 0.24442913628419544\n"
     ]
    },
    {
     "name": "stderr",
     "output_type": "stream",
     "text": [
      "Evaluating the model...: 45011it [1:27:40, 10.05it/s]"
     ]
    },
    {
     "name": "stdout",
     "output_type": "stream",
     "text": [
      "step 9: 0.30430263989909584\n"
     ]
    },
    {
     "name": "stderr",
     "output_type": "stream",
     "text": [
      "Evaluating the model...: 50000it [1:35:10,  8.76it/s]\n"
     ]
    },
    {
     "name": "stdout",
     "output_type": "stream",
     "text": [
      "step 10: 0.22751629233098516\n",
      "Checkpoint: ./result/checkpoints/model_270.ckpt\n",
      "Expects that all calls to loss are labeled with Belady's optimal policy.\n"
     ]
    },
    {
     "name": "stderr",
     "output_type": "stream",
     "text": [
      "Evaluating the model...: 5004it [02:11, 20.59it/s]"
     ]
    },
    {
     "name": "stdout",
     "output_type": "stream",
     "text": [
      "step 1: 0.11371902854355612\n"
     ]
    },
    {
     "name": "stderr",
     "output_type": "stream",
     "text": [
      "Evaluating the model...: 10003it [24:36, 10.32it/s]"
     ]
    },
    {
     "name": "stdout",
     "output_type": "stream",
     "text": [
      "step 2: 0.26640143850599163\n"
     ]
    },
    {
     "name": "stderr",
     "output_type": "stream",
     "text": [
      "Evaluating the model...: 15004it [33:38,  9.52it/s]"
     ]
    },
    {
     "name": "stdout",
     "output_type": "stream",
     "text": [
      "step 3: 0.29540704308218396\n"
     ]
    },
    {
     "name": "stderr",
     "output_type": "stream",
     "text": [
      "Evaluating the model...: 20006it [42:03,  9.68it/s]"
     ]
    },
    {
     "name": "stdout",
     "output_type": "stream",
     "text": [
      "step 4: 0.17483509080802215\n"
     ]
    },
    {
     "name": "stderr",
     "output_type": "stream",
     "text": [
      "Evaluating the model...: 25006it [51:14,  8.89it/s]"
     ]
    },
    {
     "name": "stdout",
     "output_type": "stream",
     "text": [
      "step 5: 0.1413844830580996\n"
     ]
    },
    {
     "name": "stderr",
     "output_type": "stream",
     "text": [
      "Evaluating the model...: 30007it [59:52,  9.15it/s]"
     ]
    },
    {
     "name": "stdout",
     "output_type": "stream",
     "text": [
      "step 6: 0.14426057371076903\n"
     ]
    },
    {
     "name": "stderr",
     "output_type": "stream",
     "text": [
      "Evaluating the model...: 35008it [1:08:58,  9.11it/s]"
     ]
    },
    {
     "name": "stdout",
     "output_type": "stream",
     "text": [
      "step 7: 0.24220365369861785\n"
     ]
    },
    {
     "name": "stderr",
     "output_type": "stream",
     "text": [
      "Evaluating the model...: 40009it [1:17:53,  9.08it/s]"
     ]
    },
    {
     "name": "stdout",
     "output_type": "stream",
     "text": [
      "step 8: 0.24832923429053919\n"
     ]
    },
    {
     "name": "stderr",
     "output_type": "stream",
     "text": [
      "Evaluating the model...: 45011it [1:43:32, 10.13it/s] "
     ]
    },
    {
     "name": "stdout",
     "output_type": "stream",
     "text": [
      "step 9: 0.29596477748593625\n"
     ]
    },
    {
     "name": "stderr",
     "output_type": "stream",
     "text": [
      "Evaluating the model...: 50000it [1:51:06,  7.50it/s]\n"
     ]
    },
    {
     "name": "stdout",
     "output_type": "stream",
     "text": [
      "step 10: 0.23187167402302883\n",
      "Checkpoint: ./result/checkpoints/model_300.ckpt\n",
      "Expects that all calls to loss are labeled with Belady's optimal policy.\n"
     ]
    },
    {
     "name": "stderr",
     "output_type": "stream",
     "text": [
      "Evaluating the model...: 5003it [02:10, 20.52it/s]"
     ]
    },
    {
     "name": "stdout",
     "output_type": "stream",
     "text": [
      "step 1: 0.11371902854355612\n"
     ]
    },
    {
     "name": "stderr",
     "output_type": "stream",
     "text": [
      "Evaluating the model...: 10004it [08:11, 10.14it/s]"
     ]
    },
    {
     "name": "stdout",
     "output_type": "stream",
     "text": [
      "step 2: 0.26640143850599163\n"
     ]
    },
    {
     "name": "stderr",
     "output_type": "stream",
     "text": [
      "Evaluating the model...: 15004it [17:20,  9.12it/s]"
     ]
    },
    {
     "name": "stdout",
     "output_type": "stream",
     "text": [
      "step 3: 0.296743830400437\n"
     ]
    },
    {
     "name": "stderr",
     "output_type": "stream",
     "text": [
      "Evaluating the model...: 20005it [25:50,  9.54it/s]"
     ]
    },
    {
     "name": "stdout",
     "output_type": "stream",
     "text": [
      "step 4: 0.1916198522746334\n"
     ]
    },
    {
     "name": "stderr",
     "output_type": "stream",
     "text": [
      "Evaluating the model...: 25006it [35:08,  8.46it/s]"
     ]
    },
    {
     "name": "stdout",
     "output_type": "stream",
     "text": [
      "step 5: 0.14423798189565318\n"
     ]
    },
    {
     "name": "stderr",
     "output_type": "stream",
     "text": [
      "Evaluating the model...: 30007it [43:53,  8.91it/s]"
     ]
    },
    {
     "name": "stdout",
     "output_type": "stream",
     "text": [
      "step 6: 0.14768761549794482\n"
     ]
    },
    {
     "name": "stderr",
     "output_type": "stream",
     "text": [
      "Evaluating the model...: 35008it [1:08:23,  8.98it/s] "
     ]
    },
    {
     "name": "stdout",
     "output_type": "stream",
     "text": [
      "step 7: 0.2301992021553281\n"
     ]
    },
    {
     "name": "stderr",
     "output_type": "stream",
     "text": [
      "Evaluating the model...: 40009it [1:17:32,  9.04it/s]"
     ]
    },
    {
     "name": "stdout",
     "output_type": "stream",
     "text": [
      "step 8: 0.24313123399525355\n"
     ]
    },
    {
     "name": "stderr",
     "output_type": "stream",
     "text": [
      "Evaluating the model...: 45011it [1:26:56,  9.91it/s]"
     ]
    },
    {
     "name": "stdout",
     "output_type": "stream",
     "text": [
      "step 9: 0.2947580877886351\n"
     ]
    },
    {
     "name": "stderr",
     "output_type": "stream",
     "text": [
      "Evaluating the model...: 50000it [1:34:33,  8.81it/s]\n"
     ]
    },
    {
     "name": "stdout",
     "output_type": "stream",
     "text": [
      "step 10: 0.23989266785577806\n",
      "./result/checkpoints/model_30.ckpt: [0.11371902854355612, 0.26640143850599163, 0.2949959485040121, 0.18937166071047523, 0.10931414575085803, 0.09961321457865781, 0.20805203265797043, 0.1979589118051014, 0.23484099695519098, 0.1758523159116042]\n",
      "./result/checkpoints/model_60.ckpt: [0.11371902854355612, 0.26640143850599163, 0.2931946679431155, 0.17801453410582663, 0.11130051106620095, 0.11425200470116767, 0.20822040584962848, 0.19290556606934206, 0.21500295990921986, 0.19520922654578454]\n",
      "./result/checkpoints/model_90.ckpt: [0.11371902854355612, 0.26640143850599163, 0.29302832041924337, 0.16084364081945507, 0.13200762759166865, 0.13391218101981428, 0.2102450359714499, 0.22246536715226004, 0.2680209224686582, 0.25822740679769796]\n",
      "./result/checkpoints/model_120.ckpt: [0.11371902854355612, 0.26640143850599163, 0.29356104064987737, 0.15995468867963936, 0.13561690531712178, 0.1328370592599616, 0.23623351980617374, 0.2376142070233149, 0.2800209377252399, 0.20600727788690068]\n",
      "./result/checkpoints/model_150.ckpt: [0.11371902854355612, 0.26640143850599163, 0.2935184638954578, 0.16958400578684665, 0.14028127644134558, 0.14706872340509883, 0.23208170457167765, 0.2382514232152474, 0.2956687274576918, 0.2244382699302212]\n",
      "./result/checkpoints/model_180.ckpt: [0.11371902854355612, 0.26640143850599163, 0.29351577542130475, 0.16653051968661656, 0.13636284258191655, 0.14405523751052432, 0.24029465929926905, 0.24548640546678568, 0.28012094458418674, 0.24471860550628696]\n",
      "./result/checkpoints/model_210.ckpt: [0.11371902854355612, 0.26640143850599163, 0.2942723379872194, 0.15961953843219842, 0.13949758925397315, 0.14802223555860278, 0.23667878489660465, 0.24964387104051275, 0.3086860179961965, 0.23197922796994372]\n",
      "./result/checkpoints/model_240.ckpt: [0.11371902854355612, 0.26640143850599163, 0.2947206959117763, 0.16140209358580002, 0.14172841297197694, 0.15627882074076668, 0.23750444392160683, 0.24442913628419544, 0.30430263989909584, 0.22751629233098516]\n",
      "./result/checkpoints/model_270.ckpt: [0.11371902854355612, 0.26640143850599163, 0.29540704308218396, 0.17483509080802215, 0.1413844830580996, 0.14426057371076903, 0.24220365369861785, 0.24832923429053919, 0.29596477748593625, 0.23187167402302883]\n",
      "./result/checkpoints/model_300.ckpt: [0.11371902854355612, 0.26640143850599163, 0.296743830400437, 0.1916198522746334, 0.14423798189565318, 0.14768761549794482, 0.2301992021553281, 0.24313123399525355, 0.2947580877886351, 0.23989266785577806]\n"
     ]
    }
   ],
   "source": [
    "eval_config = {\n",
    "    \"filepath\": \"./dataset/wiki2018_valid.tr\",\n",
    "    \"window_size\": 50000,\n",
    "    \"capacity\": 500000000,\n",
    "    \"access_history_len\": 20,\n",
    "    \"scorer_type\": \"belady\"\n",
    "}\n",
    "\n",
    "checkpoint_path_prefix = './result/checkpoints/model_'\n",
    "checkpoints = [f\"{checkpoint_path_prefix}{x}.ckpt\" for x in range(30, 301, 30)]\n",
    "map_checkpoint_to_chr = {}\n",
    "\n",
    "for checkpoint in checkpoints:\n",
    "    print(f\"Checkpoint: {checkpoint}\")\n",
    "    evaluator = cache_hit_rate_evaluator(eval_config,\n",
    "                                         None, checkpoint,\n",
    "                                         max_examples=5000)\n",
    "    step = 0\n",
    "    map_checkpoint_to_chr[checkpoint] = []\n",
    "    for hit_rates in evaluator:\n",
    "        step += 1\n",
    "        print(f\"step {step}: {np.mean(hit_rates)}\")\n",
    "        map_checkpoint_to_chr[checkpoint].append(np.mean(hit_rates))\n",
    "    print(f\"Average: {np.mean(map_checkpoint_to_chr[checkpoint])}\")\n",
    "\n",
    "for checkpoint, hit_rates in map_checkpoint_to_chr.items():\n",
    "    print(f\"{checkpoint}: {hit_rates}\")"
   ]
  },
  {
   "cell_type": "code",
   "execution_count": 4,
   "metadata": {},
   "outputs": [
    {
     "name": "stdout",
     "output_type": "stream",
     "text": [
      "./result/checkpoints/model_30.ckpt: 0.1890119693923418\n",
      "./result/checkpoints/model_60.ckpt: 0.18882203432398334\n",
      "./result/checkpoints/model_90.ckpt: 0.20588709692897952\n",
      "./result/checkpoints/model_120.ckpt: 0.2061966103397777\n",
      "./result/checkpoints/model_150.ckpt: 0.21210130617531348\n",
      "./result/checkpoints/model_180.ckpt: 0.21312054571064384\n",
      "./result/checkpoints/model_210.ckpt: 0.2148520070184799\n",
      "./result/checkpoints/model_240.ckpt: 0.21480030026957508\n",
      "./result/checkpoints/model_270.ckpt: 0.21543769972067445\n",
      "./result/checkpoints/model_300.ckpt: 0.2168390938913211\n"
     ]
    }
   ],
   "source": [
    "for checkpoint, hit_rates in map_checkpoint_to_chr.items():\n",
    "    print(f\"{checkpoint}: {np.mean(hit_rates)}\")"
   ]
  },
  {
   "cell_type": "code",
   "execution_count": 7,
   "metadata": {},
   "outputs": [],
   "source": [
    "map_checkpoint_to_chr_file_path = \"./result/cache_hit_rates_by_learned_policy_non_dagger.pkl\"\n",
    "save_pickle(map_checkpoint_to_chr_file_path, map_checkpoint_to_chr)"
   ]
  },
  {
   "cell_type": "code",
   "execution_count": 8,
   "metadata": {},
   "outputs": [
    {
     "name": "stderr",
     "output_type": "stream",
     "text": [
      "Evaluating the model...: 5201it [00:02, 1102.53it/s]"
     ]
    },
    {
     "name": "stdout",
     "output_type": "stream",
     "text": [
      "step 1: 0.11371902854355612\n"
     ]
    },
    {
     "name": "stderr",
     "output_type": "stream",
     "text": [
      "Evaluating the model...: 10087it [00:09, 517.44it/s]"
     ]
    },
    {
     "name": "stdout",
     "output_type": "stream",
     "text": [
      "step 2: 0.26640143850599163\n"
     ]
    },
    {
     "name": "stderr",
     "output_type": "stream",
     "text": [
      "Evaluating the model...: 15076it [00:21, 401.96it/s]"
     ]
    },
    {
     "name": "stdout",
     "output_type": "stream",
     "text": [
      "step 3: 0.29821851554986323\n"
     ]
    },
    {
     "name": "stderr",
     "output_type": "stream",
     "text": [
      "Evaluating the model...: 20048it [00:34, 383.29it/s]"
     ]
    },
    {
     "name": "stdout",
     "output_type": "stream",
     "text": [
      "step 4: 0.30872033588566716\n"
     ]
    },
    {
     "name": "stderr",
     "output_type": "stream",
     "text": [
      "Evaluating the model...: 25052it [00:48, 342.16it/s]"
     ]
    },
    {
     "name": "stdout",
     "output_type": "stream",
     "text": [
      "step 5: 0.30101864561233693\n"
     ]
    },
    {
     "name": "stderr",
     "output_type": "stream",
     "text": [
      "Evaluating the model...: 30042it [01:02, 338.53it/s]"
     ]
    },
    {
     "name": "stdout",
     "output_type": "stream",
     "text": [
      "step 6: 0.32701500365851066\n"
     ]
    },
    {
     "name": "stderr",
     "output_type": "stream",
     "text": [
      "Evaluating the model...: 35066it [01:16, 339.08it/s]"
     ]
    },
    {
     "name": "stdout",
     "output_type": "stream",
     "text": [
      "step 7: 0.3954180474529018\n"
     ]
    },
    {
     "name": "stderr",
     "output_type": "stream",
     "text": [
      "Evaluating the model...: 40056it [01:30, 348.14it/s]"
     ]
    },
    {
     "name": "stdout",
     "output_type": "stream",
     "text": [
      "step 8: 0.42432807656850513\n"
     ]
    },
    {
     "name": "stderr",
     "output_type": "stream",
     "text": [
      "Evaluating the model...: 45073it [01:44, 388.22it/s]"
     ]
    },
    {
     "name": "stdout",
     "output_type": "stream",
     "text": [
      "step 9: 0.4515188352965854\n"
     ]
    },
    {
     "name": "stderr",
     "output_type": "stream",
     "text": [
      "Evaluating the model...: 50000it [01:56, 428.88it/s]"
     ]
    },
    {
     "name": "stdout",
     "output_type": "stream",
     "text": [
      "step 10: 0.43164339497813514\n",
      "[0.11371902854355612, 0.26640143850599163, 0.29821851554986323, 0.30872033588566716, 0.30101864561233693, 0.32701500365851066, 0.3954180474529018, 0.42432807656850513, 0.4515188352965854, 0.43164339497813514]\n",
      "Average hit rate: 0.3318001322052053\n"
     ]
    },
    {
     "name": "stderr",
     "output_type": "stream",
     "text": [
      "\n"
     ]
    }
   ],
   "source": [
    "eval_config_lru = {\n",
    "    \"filepath\": \"./dataset/wiki2018_valid.tr\",\n",
    "    \"window_size\": 50000,\n",
    "    \"capacity\": 500000000,\n",
    "    \"access_history_len\": 20,\n",
    "    \"scorer_type\": \"lru\"\n",
    "}\n",
    "\n",
    "evaluator = cache_hit_rate_evaluator(eval_config_lru,\n",
    "                                     None, None,\n",
    "                                     max_examples=5000)\n",
    "\n",
    "hit_rates_lru = []\n",
    "step = 0\n",
    "for hit_rates in evaluator:\n",
    "    step += 1\n",
    "    print(f\"step {step}: {np.mean(hit_rates)}\")\n",
    "    hit_rates_lru.append(np.mean(hit_rates))\n",
    "\n",
    "# Print all hit rates\n",
    "print(hit_rates_lru)\n",
    "# Print average hit rate\n",
    "print(f\"Average hit rate: {np.mean(hit_rates_lru)}\")"
   ]
  },
  {
   "cell_type": "code",
   "execution_count": 9,
   "metadata": {},
   "outputs": [],
   "source": [
    "hit_rates_lru_file_path = \"./result/cache_hit_rates_by_lru_for_comparing_to_learned_policy_non_dagger.pkl\"\n",
    "save_pickle(hit_rates_lru_file_path, hit_rates_lru)"
   ]
  },
  {
   "cell_type": "code",
   "execution_count": 52,
   "metadata": {},
   "outputs": [
    {
     "data": {
      "image/png": "[encoded data removed]",
      "text/plain": [
       "<Figure size 640x480 with 1 Axes>"
      ]
     },
     "metadata": {},
     "output_type": "display_data"
    }
   ],
   "source": [
    "# Plot cache hit rates by lru and learned policy\n",
    "trace_boundaries = [5000*i for i in range(1, 11)]\n",
    "odds = {checkpoint: hit_rates for i, (checkpoint, hit_rates) in enumerate(map_checkpoint_to_chr.items()) if i % 2 == 0}\n",
    "for i, (checkpoint, hit_rates) in enumerate(odds.items()):\n",
    "    plt.plot(trace_boundaries, hit_rates, label=f\"Learning stage {i+1}\")\n",
    "\n",
    "plt.axis([4500, 55000, 0, 0.5])\n",
    "plt.xlabel('Visited trace')\n",
    "plt.ylabel('Cache Hit Rate')\n",
    "plt.title('Visited trace vs. Cache Hit Rate')\n",
    "plt.plot(trace_boundaries, hit_rates_lru, label=\"LRU\")\n",
    "plt.plot([5000, 15000], [0.3, 0.3], 'g--', linewidth=1.2)\n",
    "plt.plot([15000, 15000], [0, 0.3], 'g--', linewidth=1.2)\n",
    "plt.legend(loc=\"best\")\n",
    "plt.grid(linestyle='-', axis='y')\n",
    "plt.show()"
   ]
  }
 ],
 "metadata": {
  "kernelspec": {
   "display_name": "Python 3",
   "language": "python",
   "name": "python3"
  },
  "language_info": {
   "codemirror_mode": {
    "name": "ipython",
    "version": 3
   },
   "file_extension": ".py",
   "mimetype": "text/x-python",
   "name": "python",
   "nbconvert_exporter": "python",
   "pygments_lexer": "ipython3",
   "version": "3.9.14"
  },
  "orig_nbformat": 4
 },
 "nbformat": 4,
 "nbformat_minor": 2
}
